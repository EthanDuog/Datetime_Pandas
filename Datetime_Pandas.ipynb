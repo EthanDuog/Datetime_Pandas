{
  "nbformat": 4,
  "nbformat_minor": 0,
  "metadata": {
    "colab": {
      "provenance": [],
      "authorship_tag": "ABX9TyMnVipmaKcp6MZS+V015WXU",
      "include_colab_link": true
    },
    "kernelspec": {
      "name": "python3",
      "display_name": "Python 3"
    },
    "language_info": {
      "name": "python"
    }
  },
  "cells": [
    {
      "cell_type": "markdown",
      "metadata": {
        "id": "view-in-github",
        "colab_type": "text"
      },
      "source": [
        "<a href=\"https://colab.research.google.com/github/EthanDuog/Datetime_Pandas/blob/main/Datetime_Pandas.ipynb\" target=\"_parent\"><img src=\"https://colab.research.google.com/assets/colab-badge.svg\" alt=\"Open In Colab\"/></a>"
      ]
    },
    {
      "cell_type": "markdown",
      "source": [
        "# Datetime_Pandas\n",
        "How Pandas handles dates and times through the DateTime data type."
      ],
      "metadata": {
        "id": "Gwap9qfW7l3C"
      }
    },
    {
      "cell_type": "markdown",
      "source": [
        "**CLEAR EXPLAINATION THROUGH BLOGGING: [Working with date and time in Pandas](https://medium.com/@ethan.duong1120/working-with-date-and-time-in-pandas-data-science-journey-fc6d599ea90a)**"
      ],
      "metadata": {
        "id": "32ZNbCTr-H3l"
      }
    },
    {
      "cell_type": "markdown",
      "source": [
        "By: Ethan Duong | \n",
        "\n",
        "Date: 04/02/2023\n"
      ],
      "metadata": {
        "id": "2CoJt6Go7x1_"
      }
    },
    {
      "cell_type": "markdown",
      "source": [
        "Dates and times are an essential part of many data sets and can play a critical role in data analysis. In this blog, we'll explore how to work with dates and times in Pandas, one of the most widely used data analysis libraries in Python.\n",
        "\n",
        "First, let's cover the basics. In Pandas, dates and times are stored as special data types, namely Timestamp and DatetimeIndex. To create a Timestamp, we can use the pandas.Timestamp function, which accepts a variety of inputs, including strings and integers. DatetimeIndex is a type of Index in Pandas that is specifically designed to store dates and times. To create a DatetimeIndex, we can use the pandas.to_datetime function, which can parse a wide range of date and time formats."
      ],
      "metadata": {
        "id": "pdzkh0rJ7ix7"
      }
    },
    {
      "cell_type": "markdown",
      "source": [
        "# Outline:\n",
        "Convert string to datetime and handle missing values.\n",
        "\n",
        "1. Convert string to datetime and handle missing values\n",
        "2. Assemble datetime from multiple columns.\n",
        "3. Extract year month day from a date column.\n",
        "4. Select data between two dates.\n",
        "5. Calculate the duration between two dates.\n",
        "6. Select data with a specific year and perform aggregations.\n"
      ],
      "metadata": {
        "id": "zJe2wF5v7995"
      }
    },
    {
      "cell_type": "markdown",
      "source": [
        "**1. Convert string to datatime and handle missing values**"
      ],
      "metadata": {
        "id": "ZwQ3SH5K8p_y"
      }
    },
    {
      "cell_type": "code",
      "source": [
        "df = pd.DataFrame({'date': ['2016-6-10 20:30:0', \n",
        "                            '2016-7-1 19:45:30', \n",
        "                            '2013-10-12 4:5:1'],\n",
        "                   'value': [2, 3, 4]})\n",
        "df\n",
        "\n",
        "df['date'] = pd.to_datetime(df['date'], dayfirst = False)\n",
        "\n",
        "\n",
        "df['date'] = pd.to_datetime(df['date'], format=\"%Y-%d-%m %H:%M:%S\")"
      ],
      "metadata": {
        "id": "7LbVjcB98yHh"
      },
      "execution_count": null,
      "outputs": []
    },
    {
      "cell_type": "markdown",
      "source": [
        "The date data types is still string. We can use to_datetime function to convert it to datetime data type.\n",
        "If the given format is not in order, you can custom date format."
      ],
      "metadata": {
        "id": "gArvaJfq9EvB"
      }
    },
    {
      "cell_type": "code",
      "source": [
        "#Handle Null value\n",
        "# Ignore it: (the incorrect or null value still be read in string format)\n",
        "df['date'] = pd.to_datetime(df['date'], errors='ignore')\n",
        "\n",
        "# Eliminate it (let s assume there are null values in date column: \n",
        "df = df.dropna(subset=['date'])\n",
        "# if you want to drop null value in multiple columns you can just add more\n",
        "# column name in the subset (beside date)"
      ],
      "metadata": {
        "id": "s_jZHpWm9lJ4"
      },
      "execution_count": null,
      "outputs": []
    },
    {
      "cell_type": "markdown",
      "source": [
        "**2. Assemble datetime from multiple columns.**"
      ],
      "metadata": {
        "id": "zqoW_n7l9FOp"
      }
    },
    {
      "cell_type": "code",
      "source": [
        "df = pd.DataFrame({'id': ['1', '2', '3', '4'],\n",
        "                   'name': ['Ethan', 'Alison', 'Jolie', 'nick'],\n",
        "                   'date': ['2022-01-01', '2022-01-02', '2022-01-03','2022-01-04' ],\n",
        "                   'time': ['12:00:00', '13:00:00', '14:00:00', '15:00:00']})\n",
        "\n",
        "df['datetime'] = pd.to_datetime(df['date'] + ' ' + df['time'])\n"
      ],
      "metadata": {
        "id": "PtxxmN9z9FfT"
      },
      "execution_count": null,
      "outputs": []
    },
    {
      "cell_type": "markdown",
      "source": [
        "**3. Extract year month day from a date column.**"
      ],
      "metadata": {
        "id": "dDOIXX069Fs7"
      }
    },
    {
      "cell_type": "code",
      "source": [
        "df['year']= df['datetime'].dt.year\n",
        "df['month']= df['datetime'].dt.month\n",
        "df['day']= df['datetime'].dt.day"
      ],
      "metadata": {
        "id": "f47HGm9u9F_P"
      },
      "execution_count": null,
      "outputs": []
    },
    {
      "cell_type": "markdown",
      "source": [
        "**4. Select data between two dates.**"
      ],
      "metadata": {
        "id": "uyUepXQP9GPo"
      }
    },
    {
      "cell_type": "code",
      "source": [
        "start_date = '2022-01-02'\n",
        "end_date = '2022-01-04'\n",
        "\n",
        "mask = (df['datetime'] >= start_date) & (df['datetime'] <= end_date)\n",
        "result = df.loc[mask]\n",
        "\n",
        "print(result)"
      ],
      "metadata": {
        "id": "b0A673N79Gmx"
      },
      "execution_count": null,
      "outputs": []
    },
    {
      "cell_type": "markdown",
      "source": [
        "**5. Calculate the duration between two dates.**\n",
        "\n",
        "\n"
      ],
      "metadata": {
        "id": "UhzrTqtd77HX"
      }
    },
    {
      "cell_type": "code",
      "source": [
        "df['second_datetime'] = pd.to_datetime('2022-01-06 12:00:00')\n",
        "df['duration'] = df['second_datetime'] - df['datetime']\n",
        "df['duration_days'] = df['duration'].dt.days\n"
      ],
      "metadata": {
        "id": "gHJoD_sF9DPa"
      },
      "execution_count": null,
      "outputs": []
    },
    {
      "cell_type": "markdown",
      "source": [
        "**6. Select data with a specific year and perform aggregations.**"
      ],
      "metadata": {
        "id": "DOprbU0V9DwF"
      }
    },
    {
      "cell_type": "code",
      "source": [
        "#Change candy to numeric and change birth_daty to datetime \n",
        "df['candy'] = pd.to_numeric(df['candy'])\n",
        "df['birth_day'] = pd.to_datetime(df['birth_day'])\n"
      ],
      "metadata": {
        "id": "p5GGAPGP9EEC"
      },
      "execution_count": null,
      "outputs": []
    },
    {
      "cell_type": "code",
      "source": [
        "#get the year from birth_day\n",
        "year_born = df['birth_day'].dt.year\n",
        "\n",
        "#get data for people born in 2022, then group by year born, sum up \n",
        "df_day = df[year_born == 2022].groupby(year_born).sum()\n",
        "df_day"
      ],
      "metadata": {
        "id": "VKO0Lgd898H8"
      },
      "execution_count": null,
      "outputs": []
    },
    {
      "cell_type": "markdown",
      "source": [
        "This is a complicated aggregations and require critical thinking to understand how the function operate.\n",
        "\n",
        "Thank you for being here, I hope it helps you in some ways.\n",
        "\n",
        "You can contact me through email: ethan.duong1120@gmail.com\n",
        "\n",
        "\n",
        "I will see you soon !"
      ],
      "metadata": {
        "id": "8Kf6Go8c9ETt"
      }
    }
  ]
}